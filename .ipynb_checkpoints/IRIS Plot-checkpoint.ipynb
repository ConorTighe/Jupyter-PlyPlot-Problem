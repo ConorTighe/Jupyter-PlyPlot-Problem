{
 "cells": [
  {
   "cell_type": "markdown",
   "metadata": {},
   "source": [
    "# Importing the IRIS CSV into jupyter\n",
    "    \n",
    "Below I used numpys genfromtext on a IRIS dataset csv I found online. Csv's use commas to devide rows do delimiter is a good way to devide the data for storing."
   ]
  },
  {
   "cell_type": "code",
   "execution_count": 2,
   "metadata": {},
   "outputs": [
    {
     "name": "stdout",
     "output_type": "stream",
     "text": [
      "[[ nan  nan  nan  nan  nan]\n",
      " [ 5.1  3.5  1.4  0.2  nan]\n",
      " [ 4.9  3.   1.4  0.2  nan]\n",
      " [ 4.7  3.2  1.3  0.2  nan]\n",
      " [ 4.6  3.1  1.5  0.2  nan]\n",
      " [ 5.   3.6  1.4  0.2  nan]\n",
      " [ 5.4  3.9  1.7  0.4  nan]\n",
      " [ 4.6  3.4  1.4  0.3  nan]\n",
      " [ 5.   3.4  1.5  0.2  nan]\n",
      " [ 4.4  2.9  1.4  0.2  nan]\n",
      " [ 4.9  3.1  1.5  0.1  nan]\n",
      " [ 5.4  3.7  1.5  0.2  nan]\n",
      " [ 4.8  3.4  1.6  0.2  nan]\n",
      " [ 4.8  3.   1.4  0.1  nan]\n",
      " [ 4.3  3.   1.1  0.1  nan]\n",
      " [ 5.8  4.   1.2  0.2  nan]\n",
      " [ 5.7  4.4  1.5  0.4  nan]\n",
      " [ 5.4  3.9  1.3  0.4  nan]\n",
      " [ 5.1  3.5  1.4  0.3  nan]\n",
      " [ 5.7  3.8  1.7  0.3  nan]\n",
      " [ 5.1  3.8  1.5  0.3  nan]\n",
      " [ 5.4  3.4  1.7  0.2  nan]\n",
      " [ 5.1  3.7  1.5  0.4  nan]\n",
      " [ 4.6  3.6  1.   0.2  nan]\n",
      " [ 5.1  3.3  1.7  0.5  nan]\n",
      " [ 4.8  3.4  1.9  0.2  nan]\n",
      " [ 5.   3.   1.6  0.2  nan]\n",
      " [ 5.   3.4  1.6  0.4  nan]\n",
      " [ 5.2  3.5  1.5  0.2  nan]\n",
      " [ 5.2  3.4  1.4  0.2  nan]\n",
      " [ 4.7  3.2  1.6  0.2  nan]\n",
      " [ 4.8  3.1  1.6  0.2  nan]\n",
      " [ 5.4  3.4  1.5  0.4  nan]\n",
      " [ 7.   3.2  4.7  1.4  nan]\n",
      " [ 6.4  3.2  4.5  1.5  nan]\n",
      " [ 6.9  3.1  4.9  1.5  nan]\n",
      " [ 5.5  2.3  4.   1.3  nan]\n",
      " [ 6.5  2.8  4.6  1.5  nan]\n",
      " [ 5.7  2.8  4.5  1.3  nan]\n",
      " [ 6.3  3.3  4.7  1.6  nan]\n",
      " [ 4.9  2.4  3.3  1.   nan]\n",
      " [ 6.6  2.9  4.6  1.3  nan]\n",
      " [ 5.2  2.7  3.9  1.4  nan]\n",
      " [ 5.   2.   3.5  1.   nan]\n",
      " [ 5.9  3.   4.2  1.5  nan]\n",
      " [ 6.   2.2  4.   1.   nan]\n",
      " [ 6.1  2.9  4.7  1.4  nan]\n",
      " [ 5.6  2.9  3.6  1.3  nan]\n",
      " [ 6.7  3.1  4.4  1.4  nan]\n",
      " [ 5.6  3.   4.5  1.5  nan]\n",
      " [ 5.8  2.7  4.1  1.   nan]\n",
      " [ 6.2  2.2  4.5  1.5  nan]\n",
      " [ 5.6  2.5  3.9  1.1  nan]\n",
      " [ 5.9  3.2  4.8  1.8  nan]\n",
      " [ 6.1  2.8  4.   1.3  nan]\n",
      " [ 6.3  2.5  4.9  1.5  nan]\n",
      " [ 6.1  2.8  4.7  1.2  nan]\n",
      " [ 6.4  2.9  4.3  1.3  nan]\n",
      " [ 6.6  3.   4.4  1.4  nan]\n",
      " [ 6.8  2.8  4.8  1.4  nan]\n",
      " [ 6.7  3.   5.   1.7  nan]\n",
      " [ 6.   2.9  4.5  1.5  nan]\n",
      " [ 5.7  2.6  3.5  1.   nan]\n",
      " [ 5.5  2.4  3.8  1.1  nan]\n",
      " [ 5.5  2.4  3.7  1.   nan]\n",
      " [ 5.8  2.7  3.9  1.2  nan]\n",
      " [ 6.   2.7  5.1  1.6  nan]\n",
      " [ 6.3  3.3  6.   2.5  nan]\n",
      " [ 5.8  2.7  5.1  1.9  nan]\n",
      " [ 7.1  3.   5.9  2.1  nan]\n",
      " [ 6.3  2.9  5.6  1.8  nan]\n",
      " [ 6.5  3.   5.8  2.2  nan]\n",
      " [ 7.6  3.   6.6  2.1  nan]\n",
      " [ 4.9  2.5  4.5  1.7  nan]\n",
      " [ 7.3  2.9  6.3  1.8  nan]\n",
      " [ 6.7  2.5  5.8  1.8  nan]\n",
      " [ 7.2  3.6  6.1  2.5  nan]\n",
      " [ 6.5  3.2  5.1  2.   nan]\n",
      " [ 6.4  2.7  5.3  1.9  nan]\n",
      " [ 6.8  3.   5.5  2.1  nan]\n",
      " [ 5.7  2.5  5.   2.   nan]\n",
      " [ 5.8  2.8  5.1  2.4  nan]\n",
      " [ 6.4  3.2  5.3  2.3  nan]\n",
      " [ 6.5  3.   5.5  1.8  nan]\n",
      " [ 7.7  3.8  6.7  2.2  nan]\n",
      " [ 7.7  2.6  6.9  2.3  nan]\n",
      " [ 6.   2.2  5.   1.5  nan]\n",
      " [ 6.9  3.2  5.7  2.3  nan]\n",
      " [ 5.6  2.8  4.9  2.   nan]\n",
      " [ 7.7  2.8  6.7  2.   nan]\n",
      " [ 6.3  2.7  4.9  1.8  nan]\n",
      " [ 6.7  3.3  5.7  2.1  nan]\n",
      " [ 7.2  3.2  6.   1.8  nan]\n",
      " [ 6.2  2.8  4.8  1.8  nan]\n",
      " [ 6.1  3.   4.9  1.8  nan]\n",
      " [ 6.4  2.8  5.6  2.1  nan]\n",
      " [ 7.2  3.   5.8  1.6  nan]\n",
      " [ 7.4  2.8  6.1  1.9  nan]\n",
      " [ 7.9  3.8  6.4  2.   nan]\n",
      " [ 6.4  2.8  5.6  2.2  nan]\n",
      " [ 6.3  2.8  5.1  1.5  nan]]\n"
     ]
    }
   ],
   "source": [
    "import numpy as np\n",
    "csv = np.genfromtxt('IRIS.csv',delimiter=\",\")\n",
    "print(csv)"
   ]
  },
  {
   "attachments": {},
   "cell_type": "markdown",
   "metadata": {},
   "source": [
    "# Dataset Analysis\n",
    "\n",
    "This datasets purpose is to represent the measurements between 3 different species of flower known as setosa, versicolor and virginica.\n",
    "\n",
    "If we review the data output from the print statement we can see a series of null values at the top, these are the headers of each row which cannot be reresented in a numpy array since they are text. The 4 columns filled with digits are the mesurements of the sepal and petals lengths and widths in centimetres. The final value of nulls is the species columns which contain text showing if the flower is a setosa, versicolor or virginica. Because the headers are included in the dataset we can use a libray called pandas to extract the columns for plotting with pyplot.\n",
    "\n",
    "[Official UCI Machine Learning page where I found this information](https://archive.ics.uci.edu/ml/datasets/Iris)"
   ]
  },
  {
   "cell_type": "markdown",
   "metadata": {},
   "source": []
  },
  {
   "cell_type": "code",
   "execution_count": 1,
   "metadata": {
    "collapsed": true
   },
   "outputs": [],
   "source": [
    "import pandas as pd\n",
    "iris = pd.read_csv(\"IRIS.csv\")\n",
    "xSepal = iris.SepalLength\n",
    "ySepal = iris.SepalWidth\n"
   ]
  },
  {
   "cell_type": "code",
   "execution_count": 7,
   "metadata": {},
   "outputs": [
    {
     "data": {
      "image/png": "[encoded data removed]",
      "text/plain": [
       "<matplotlib.figure.Figure at 0x19d84998748>"
      ]
     },
     "metadata": {},
     "output_type": "display_data"
    }
   ],
   "source": [
    "import matplotlib.pyplot as plt\n",
    "plt.xlabel('Sepal Length')\n",
    "plt.ylabel('Sepal Width')\n",
    "plt.scatter(xSepal,ySepal)\n",
    "plt.show()"
   ]
  },
  {
   "cell_type": "code",
   "execution_count": 9,
   "metadata": {},
   "outputs": [
    {
     "name": "stdout",
     "output_type": "stream",
     "text": [
      "0        setosa\n",
      "1        setosa\n",
      "2        setosa\n",
      "3        setosa\n",
      "4        setosa\n",
      "5        setosa\n",
      "6        setosa\n",
      "7        setosa\n",
      "8        setosa\n",
      "9        setosa\n",
      "10       setosa\n",
      "11       setosa\n",
      "12       setosa\n",
      "13       setosa\n",
      "14       setosa\n",
      "15       setosa\n",
      "16       setosa\n",
      "17       setosa\n",
      "18       setosa\n",
      "19       setosa\n",
      "20       setosa\n",
      "21       setosa\n",
      "22       setosa\n",
      "23       setosa\n",
      "24       setosa\n",
      "25       setosa\n",
      "26       setosa\n",
      "27       setosa\n",
      "28       setosa\n",
      "29       setosa\n",
      "        ...    \n",
      "70    virginica\n",
      "71    virginica\n",
      "72    virginica\n",
      "73    virginica\n",
      "74    virginica\n",
      "75    virginica\n",
      "76    virginica\n",
      "77    virginica\n",
      "78    virginica\n",
      "79    virginica\n",
      "80    virginica\n",
      "81    virginica\n",
      "82    virginica\n",
      "83    virginica\n",
      "84    virginica\n",
      "85    virginica\n",
      "86    virginica\n",
      "87    virginica\n",
      "88    virginica\n",
      "89    virginica\n",
      "90    virginica\n",
      "91    virginica\n",
      "92    virginica\n",
      "93    virginica\n",
      "94    virginica\n",
      "95    virginica\n",
      "96    virginica\n",
      "97    virginica\n",
      "98    virginica\n",
      "99    virginica\n",
      "Name: Species, Length: 100, dtype: object\n"
     ]
    }
   ],
   "source": [
    "fSpecies = iris.Species\n",
    "print(fSpecies)"
   ]
  },
  {
   "cell_type": "code",
   "execution_count": 50,
   "metadata": {},
   "outputs": [
    {
     "name": "stdout",
     "output_type": "stream",
     "text": [
      "['red', 'red', 'red', 'red', 'red', 'red', 'red', 'red', 'red', 'red', 'red', 'red', 'red', 'red', 'red', 'red', 'red', 'red', 'red', 'red', 'red', 'red', 'red', 'red', 'red', 'red', 'red', 'red', 'red', 'red', 'red', 'red', 'green', 'green', 'green', 'green', 'green', 'green', 'green', 'green', 'green', 'green', 'green', 'green', 'green', 'green', 'green', 'green', 'green', 'green', 'green', 'green', 'green', 'green', 'green', 'green', 'green', 'green', 'green', 'green', 'green', 'green', 'green', 'green', 'green', 'green', 'blue', 'blue', 'blue', 'blue', 'blue', 'blue', 'blue', 'blue', 'blue', 'blue', 'blue', 'blue', 'blue', 'blue', 'blue', 'blue', 'blue', 'blue', 'blue', 'blue', 'blue', 'blue', 'blue', 'blue', 'blue', 'blue', 'blue', 'blue', 'blue', 'blue', 'blue', 'blue', 'blue', 'blue']\n"
     ]
    },
    {
     "data": {
      "image/png": "[encoded data removed]",
      "text/plain": [
       "<matplotlib.figure.Figure at 0x19d8614b358>"
      ]
     },
     "metadata": {},
     "output_type": "display_data"
    }
   ],
   "source": [
    "col = []\n",
    "cnt = []\n",
    "i = 0\n",
    "for species in fSpecies:\n",
    "    cnt.append(i)\n",
    "    i + 1\n",
    "    if species == \"versicolor\":\n",
    "        col.append(\"green\")\n",
    "    elif species == \"setosa\":\n",
    "        col.append(\"red\")\n",
    "    elif species == \"virginica\":\n",
    "        col.append(\"blue\")\n",
    "    \n",
    "print(col)\n",
    "plt.scatter(xSepal,ySepal,c = [col[s] for s in cnt])\n",
    "plt.show()"
   ]
  },
  {
   "cell_type": "code",
   "execution_count": null,
   "metadata": {
    "collapsed": true
   },
   "outputs": [],
   "source": []
  }
 ],
 "metadata": {
  "kernelspec": {
   "display_name": "Python 3",
   "language": "python",
   "name": "python3"
  },
  "language_info": {
   "codemirror_mode": {
    "name": "ipython",
    "version": 3
   },
   "file_extension": ".py",
   "mimetype": "text/x-python",
   "name": "python",
   "nbconvert_exporter": "python",
   "pygments_lexer": "ipython3",
   "version": "3.6.2"
  }
 },
 "nbformat": 4,
 "nbformat_minor": 2
}
